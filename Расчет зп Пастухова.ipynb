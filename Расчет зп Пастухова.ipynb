{
 "cells": [
  {
   "cell_type": "code",
   "execution_count": null,
   "metadata": {},
   "outputs": [],
   "source": [
    "while True:\n",
    "    rate=int(input('Введите часовую тарифную ставку: '))\n",
    "    days=int(input('Введите количество рабочих дней: '))\n",
    "    if days < 32:\n",
    "        break\n",
    "    print(\"Введите правильное количество дней!\")\n",
    "mrot = 11121 \n",
    "oklad=8*rate*days\n",
    "print(\"Оклад: \", oklad, \"руб\")\n",
    "premiya=oklad\n",
    "print(\"Премия: \",premiya, \"руб\")\n",
    "zp=oklad+premiya\n",
    "print(\"Заработная плата: \", zp, \"руб\")\n",
    "zp_s_uk=zp*1.15\n",
    "print(\"Заработная плата с урал.коэфф.: \", round(zp_s_uk, 2), \"руб\")\n",
    "ndfl=zp_s_uk*0.15\n",
    "print(\"НДФЛ: \", round(ndfl, 2), \"руб\")\n",
    "zp_s_ndfl=zp_s_uk - ndfl\n",
    "print(\"Итоговая заработная плата: \", round(zp_s_ndfl, 2), \"руб\")\n",
    "if zp_s_ndfl > mrot:\n",
    "    print(\"Заработная плата больше прожиточного минимума\")\n",
    "elif zp_s_ndfl < mrot:\n",
    "    print(\"Заработная плата меньше прожиточного минимума\")\n",
    "else: \n",
    "    print(\"Заработная плата равна прожиточному минимуму\")\n"
   ]
  }
 ],
 "metadata": {
  "kernelspec": {
   "display_name": "Python 3.10.7 64-bit",
   "language": "python",
   "name": "python3"
  },
  "language_info": {
   "codemirror_mode": {
    "name": "ipython",
    "version": 3
   },
   "file_extension": ".py",
   "mimetype": "text/x-python",
   "name": "python",
   "nbconvert_exporter": "python",
   "pygments_lexer": "ipython3",
   "version": "3.10.7"
  },
  "orig_nbformat": 4,
  "vscode": {
   "interpreter": {
    "hash": "6c314bc54392141bae31911de303799207ecc6063e941ff81ce8dc429d777a8a"
   }
  }
 },
 "nbformat": 4,
 "nbformat_minor": 2
}
